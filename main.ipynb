{
 "cells": [
  {
   "cell_type": "markdown",
   "id": "8c7acf44",
   "metadata": {},
   "source": [
    "# Import"
   ]
  },
  {
   "cell_type": "code",
   "execution_count": null,
   "id": "c3135e37",
   "metadata": {},
   "outputs": [],
   "source": [
    "import matplotlib.pyplot as plt\n",
    "import seaborn as sns\n",
    "import numpy as np\n",
    "import wandb\n",
    "\n",
    "from torch.utils.data import Subset\n",
    "from torchvision.datasets import MNIST, CIFAR10, CIFAR100\n",
    "from torchvision.models import resnet18\n",
    "from torchvision import transforms\n",
    "from sklearn.manifold import TSNE\n",
    "from sklearn.decomposition import PCA\n",
    "from random import randint\n",
    "from myModel import *\n",
    "from coreFunction import *\n",
    "from utilityFunction import cloneResnet"
   ]
  },
  {
   "cell_type": "code",
   "execution_count": null,
   "id": "3ab9bab1",
   "metadata": {},
   "outputs": [],
   "source": [
    "download = False\n",
    "dowload_path = '/Users/edoardosarri/Downloads/'"
   ]
  },
  {
   "cell_type": "markdown",
   "id": "7a47f71b",
   "metadata": {},
   "source": [
    "---\n",
    "# Analisi"
   ]
  },
  {
   "cell_type": "markdown",
   "id": "796f113b",
   "metadata": {},
   "source": [
    "##### MNIST"
   ]
  },
  {
   "cell_type": "code",
   "execution_count": null,
   "id": "9f604cea",
   "metadata": {},
   "outputs": [],
   "source": [
    "#import\n",
    "transform = transforms.Compose([\n",
    "    transforms.ToTensor(),\n",
    "    transforms.Normalize((0.1307,), (0.3081,))\n",
    "])\n",
    "train_MNIST = MNIST(root='./data', download=True, train=True, transform=transform)\n",
    "test_MNIST  = MNIST(root='./data', download=True, train=False, transform=transform)\n",
    "\n",
    "print(f'- Media MNIST: {(train_MNIST.data/255).mean()}')\n",
    "print(f'- Varianza MNIST: {(train_MNIST.data/255).std()}')"
   ]
  },
  {
   "cell_type": "code",
   "execution_count": null,
   "id": "8bff800d",
   "metadata": {},
   "outputs": [],
   "source": [
    "# stampa di informazioni\n",
    "print(f'- Campi: {dir(train_MNIST)}')\n",
    "print(f'- Dimensione del train set: {len(train_MNIST)}')\n",
    "print(f'- Dimensione del test set: {len(test_MNIST.data)}')\n",
    "print(f'- Possibili classi: {np.unique(train_MNIST.class_to_idx)}')\n",
    "print(f'- Valore minimo: {train_MNIST.data.min()}')\n",
    "print(f'- Valore massimo: {train_MNIST.data.max()}')\n",
    "print(f'- Dimensione e tipo delle immagini: {train_MNIST.data[0].shape}')"
   ]
  },
  {
   "cell_type": "code",
   "execution_count": null,
   "id": "412daf2b",
   "metadata": {},
   "outputs": [],
   "source": [
    "# rappresentazione immgine\n",
    "image, label = train_MNIST[randint(0, len(train_MNIST))]\n",
    "image = image.squeeze(0).numpy()\n",
    "plt.figure(figsize=(3, 3))\n",
    "plt.axis('off')\n",
    "plt.title(f'Label: {label}')\n",
    "plt.imshow(image, cmap='inferno')"
   ]
  },
  {
   "cell_type": "code",
   "execution_count": null,
   "id": "77e9b844",
   "metadata": {},
   "outputs": [],
   "source": [
    "# distribuzione del train set\n",
    "labels = train_MNIST.targets\n",
    "palette = sns.color_palette('Spectral',10)\n",
    "plt.figure()\n",
    "plt.xlabel(\"Classe\")\n",
    "plt.ylabel(\"Numero di salmples\")\n",
    "sns.countplot(x=labels, hue=labels, palette=palette, legend=False)\n",
    "if(download):\n",
    "    percorso_file = dowload_path + 'distribuzione MNIST.pdf'\n",
    "    plt.savefig(percorso_file, dpi=300, bbox_inches='tight')\n",
    "plt.show()"
   ]
  },
  {
   "cell_type": "code",
   "execution_count": null,
   "id": "7eeeb51c",
   "metadata": {},
   "outputs": [],
   "source": [
    "# raggruppamento trin set\n",
    "n_samples = 10**4\n",
    "data = train_MNIST.data[:n_samples].reshape(n_samples, -1).numpy()  # da (n,28,28) a (n,784)\n",
    "labels = train_MNIST.targets[:n_samples].numpy()\n",
    "\n",
    "tsne = TSNE(n_components=2, perplexity=30, random_state=5)\n",
    "data = tsne.fit_transform(data)\n",
    "\n",
    "plt.figure()\n",
    "palette = sns.color_palette('Spectral',10)\n",
    "sns.scatterplot(x=data[:, 0], y=data[:, 1], hue=labels, palette=palette, s=8)\n",
    "plt.legend(title=\"Classi\")\n",
    "if(download):\n",
    "    percorso_file = dowload_path + 'raggruppamento MNIST.pdf'\n",
    "    plt.savefig(percorso_file, dpi=300, bbox_inches='tight')\n",
    "plt.show()"
   ]
  },
  {
   "cell_type": "markdown",
   "id": "def623d9",
   "metadata": {},
   "source": [
    "##### CIFAR10"
   ]
  },
  {
   "cell_type": "code",
   "execution_count": null,
   "id": "a1280ba6",
   "metadata": {},
   "outputs": [],
   "source": [
    "#import\n",
    "transform = transforms.Compose([\n",
    "    transforms.Resize((128, 128)),\n",
    "    transforms.ToTensor(),\n",
    "    transforms.Normalize((0.49139968, 0.48215841, 0.44653091), (0.24703223, 0.24348513, 0.26158784))\n",
    "])\n",
    "train_CIFAR10 = CIFAR10(root='./data', download=True, train=True, transform=transform)\n",
    "test_CIFAR10 = CIFAR10(root='./data', download=True, train=False, transform=transform)\n",
    "\n",
    "mean = (train_CIFAR10.data/255).mean(axis=(0,1,2))\n",
    "std = (train_CIFAR10.data/255).std(axis=(0,1,2))\n",
    "print(f'- Media CIFAR10: {mean}')\n",
    "print(f'- Varianza CIFAR10: {std}')"
   ]
  },
  {
   "cell_type": "code",
   "execution_count": null,
   "id": "297a73ce",
   "metadata": {},
   "outputs": [],
   "source": [
    "# stampa di informazioni\n",
    "print(f'- Campi : {dir(train_CIFAR10)}')\n",
    "print(f'- Dimensione del train set: {len(train_CIFAR10)}')\n",
    "print(f'- Dimensione del test set: {len(test_CIFAR10.data)}')\n",
    "print(f'- Possibili classi: {np.unique(train_CIFAR10.class_to_idx)}')\n",
    "print(f'- Valore minimo: {train_CIFAR10.data.min()}')\n",
    "print(f'- Valore massimo: {train_CIFAR10.data.max()}')\n",
    "print(f'- Dimensione e tipo delle immagini: {train_CIFAR10[0][0].shape}')"
   ]
  },
  {
   "cell_type": "code",
   "execution_count": null,
   "id": "10225bf2",
   "metadata": {},
   "outputs": [],
   "source": [
    "# rappresentazione immgine\n",
    "images = [train_CIFAR10[randint(0, len(train_CIFAR10))] for _ in range(2)]\n",
    "fig, axes = plt.subplots(2, 4, figsize=(15,6))\n",
    "colors = ['Reds', 'Greens', 'Blues']\n",
    "titles = ['Red', 'Green', 'Blue']\n",
    "for row, (image, label) in enumerate(images):\n",
    "    img = image.numpy().transpose(1,2,0)  # da (C, D, D') a (D, D', C), formato di plt\n",
    "    for i in range(3):\n",
    "        axes[row, i].imshow(image[i].numpy(), cmap=colors[i])\n",
    "        axes[row, i].set_title(f'{titles[i]}')\n",
    "        axes[row, i].axis('off')\n",
    "    axes[row, 3].imshow(img * std + mean)\n",
    "    axes[row, 3].set_title(f'RGB, Label: {label}')\n",
    "    axes[row, 3].axis('off')\n",
    "    plt.axis('off')\n",
    "if(download):\n",
    "    percorso_file = dowload_path + 'immagini CIFAR10.pdf'\n",
    "    plt.savefig(percorso_file, dpi=300, bbox_inches='tight')\n",
    "plt.show()"
   ]
  },
  {
   "cell_type": "code",
   "execution_count": null,
   "id": "d9972c27",
   "metadata": {},
   "outputs": [],
   "source": [
    "# distribuzione del train set\n",
    "labels = train_CIFAR10.targets\n",
    "palette = sns.color_palette('Spectral',10)\n",
    "plt.xlabel(\"Classe\")\n",
    "plt.ylabel(\"Numero di salmples\")\n",
    "sns.countplot(x=labels, hue=labels, palette=palette, legend=False)\n",
    "if(download):\n",
    "    percorso_file = dowload_path + 'distribuzione CIFAR10.pdf'\n",
    "    plt.savefig(percorso_file, dpi=300, bbox_inches='tight')\n",
    "plt.show()"
   ]
  },
  {
   "cell_type": "code",
   "execution_count": null,
   "id": "97f51495",
   "metadata": {},
   "outputs": [],
   "source": [
    "# raggruppamento trin set\n",
    "n_samples = 10**4\n",
    "data = train_CIFAR10.data[:n_samples].reshape(n_samples, -1) # da (n,128,128,3) a (n,49152)\n",
    "labels = train_CIFAR10.targets[:n_samples]\n",
    "\n",
    "pca = PCA(n_components=50, random_state=5)\n",
    "data = pca.fit_transform(data)\n",
    "\n",
    "tsne = TSNE(n_components=2, perplexity=30, method='barnes_hut', random_state=42, max_iter=1000)\n",
    "data = tsne.fit_transform(data)\n",
    "\n",
    "plt.figure()\n",
    "sns.scatterplot(x=data[:, 0], y=data[:, 1], hue=labels, palette=palette, s=8)\n",
    "plt.legend(title=\"Classi\")\n",
    "if(download):\n",
    "    percorso_file = dowload_path + 'raggruppamento CIFAR10.pdf'\n",
    "    plt.savefig(percorso_file, dpi=300, bbox_inches='tight')\n",
    "plt.show()"
   ]
  },
  {
   "cell_type": "markdown",
   "id": "7650075c",
   "metadata": {},
   "source": [
    "##### CIFAR100"
   ]
  },
  {
   "cell_type": "code",
   "execution_count": null,
   "id": "39146a6b",
   "metadata": {},
   "outputs": [],
   "source": [
    "#import\n",
    "transform = transforms.Compose([\n",
    "    transforms.Resize((128, 128)),\n",
    "    transforms.ToTensor(),\n",
    "    transforms.Normalize((0.5071, 0.4865, 0.4409), (0.2683, 0.2574, 0.2770))\n",
    "])\n",
    "train_CIFAR100 = CIFAR100(root='./data', download=True, train=True, transform=transform)\n",
    "test_CIFAR100 = CIFAR100(root='./data', download=True, train=False, transform=transform)\n",
    "\n",
    "mean = (train_CIFAR100.data / 255).mean(axis=(0, 1, 2))\n",
    "std = (test_CIFAR100.data / 255).std(axis=(0, 1, 2))\n",
    "print(f'- Media CIFAR100: {mean}')\n",
    "print(f'- Varianza CIFAR100: {std}')"
   ]
  },
  {
   "cell_type": "code",
   "execution_count": null,
   "id": "059a07f7",
   "metadata": {},
   "outputs": [],
   "source": [
    "# stampa di informazioni\n",
    "print(f'- Campi : {dir(train_CIFAR100)}')\n",
    "print(f'- Dimensione del train set: {len(train_CIFAR100)}')\n",
    "print(f'- Dimensione del test set: {len(test_CIFAR100.data)}')\n",
    "print(f'- Possibili classi: {np.unique(train_CIFAR100.class_to_idx)}')\n",
    "print(f'- Valore minimo: {train_CIFAR100.data.min()}')\n",
    "print(f'- Valore massimo: {train_CIFAR100.data.max()}')\n",
    "print(f'- Dimensione e tipo delle immagini: {train_CIFAR100[0][0].shape}')"
   ]
  },
  {
   "cell_type": "code",
   "execution_count": null,
   "id": "426a9290",
   "metadata": {},
   "outputs": [],
   "source": [
    "# rappresentazione immgine\n",
    "images = [train_CIFAR100[randint(0, len(train_CIFAR100))] for _ in range(2)]\n",
    "fig, axes = plt.subplots(2, 4, figsize=(15,6))\n",
    "colors = ['Reds', 'Greens', 'Blues']\n",
    "titles = ['Red', 'Green', 'Blue']\n",
    "for row, (image, label) in enumerate(images):\n",
    "    img = image.numpy().transpose(1,2,0)  # da (C, D, D') a (D, D', C), formato di plt\n",
    "    for i in range(3):\n",
    "        axes[row, i].imshow(image[i].numpy(), cmap=colors[i])\n",
    "        axes[row, i].set_title(f'{titles[i]}')\n",
    "        axes[row, i].axis('off')\n",
    "    axes[row, 3].imshow(img * std + mean)\n",
    "    axes[row, 3].set_title(f'RGB, Label: {label}')\n",
    "    axes[row, 3].axis('off')\n",
    "    plt.axis('off')\n",
    "if(download):\n",
    "    percorso_file = dowload_path + 'immagini CIFAR10.pdf'\n",
    "    plt.savefig(percorso_file, dpi=300, bbox_inches='tight')\n",
    "plt.show()"
   ]
  },
  {
   "cell_type": "code",
   "execution_count": null,
   "id": "dc9d555e",
   "metadata": {},
   "outputs": [],
   "source": [
    "# distribuzione del train set\n",
    "labels = train_CIFAR100.targets\n",
    "palette = sns.color_palette('Spectral',100)\n",
    "plt.xlabel(\"Classe\")\n",
    "plt.ylabel(\"Numero di salmples\")\n",
    "sns.countplot(x=labels, hue=labels, palette=palette, legend=False).set_xticks([])\n",
    "if(download):\n",
    "    percorso_file = dowload_path + 'distribuzione CIFAR10.pdf'\n",
    "    plt.savefig(percorso_file, dpi=300, bbox_inches='tight')\n",
    "plt.show()"
   ]
  },
  {
   "cell_type": "code",
   "execution_count": null,
   "id": "de926042",
   "metadata": {},
   "outputs": [],
   "source": [
    "# raggruppamento trin set\n",
    "n_samples = 10**4\n",
    "data = train_CIFAR100.data[:n_samples].reshape(n_samples, -1)  # da (n,128,128,3) a (n,49152)\n",
    "labels = train_CIFAR100.targets[:n_samples]\n",
    "\n",
    "pca = PCA(n_components=50, random_state=5)\n",
    "data = pca.fit_transform(data)\n",
    "\n",
    "tsne = TSNE(n_components=2, perplexity=30, method='barnes_hut', random_state=42, max_iter=1000)\n",
    "data = tsne.fit_transform(data)\n",
    "\n",
    "plt.figure()\n",
    "palette = sns.color_palette('Spectral',100)\n",
    "sns.scatterplot(x=data[:, 0], y=data[:, 1], hue=labels, palette=palette, s=8, legend=False)\n",
    "if(download):\n",
    "    percorso_file = dowload_path + 'raggruppamento CIFAR100.pdf'\n",
    "    plt.savefig(percorso_file, dpi=300, bbox_inches='tight')\n",
    "plt.show()"
   ]
  },
  {
   "cell_type": "markdown",
   "id": "38254629",
   "metadata": {},
   "source": [
    "---\n",
    "# MLP\n",
    "\n",
    "##### w/o residual connection"
   ]
  },
  {
   "cell_type": "code",
   "execution_count": null,
   "id": "1ba48d27",
   "metadata": {},
   "outputs": [],
   "source": [
    "layers = [784, 1024, 256, 64, 10]\n",
    "model = MLP(layers)\n",
    "pipeline(model, train_MNIST, test_MNIST, 'MNIST', 'MLP_4', lr=1e-4, evaluating_grad=True)\n",
    "\n",
    "layers = [784] + [1024] + [256] + [64]*10 + [10]\n",
    "model = MLP(layers)\n",
    "pipeline(model, train_MNIST, test_MNIST, 'MNIST', 'MLP_13', lr=1e-4, evaluating_grad=True)\n",
    "\n",
    "layers = [784] + [1024] + [256] + [64]*20 + [10]\n",
    "model = MLP(layers)\n",
    "pipeline(model, train_MNIST, test_MNIST, 'MNIST', 'MLP_23', lr=1e-4, evaluating_grad=True)\n",
    "\n",
    "layers = [784] + [1024] + [256] + [64]*30 + [10]\n",
    "model = MLP(layers)\n",
    "pipeline(model, train_MNIST, test_MNIST, 'MNIST', 'MLP_33', lr=1e-4, evaluating_grad=True)"
   ]
  },
  {
   "cell_type": "markdown",
   "id": "31e8d5d8",
   "metadata": {},
   "source": [
    "##### w/ residual connection"
   ]
  },
  {
   "cell_type": "code",
   "execution_count": null,
   "id": "105e937a",
   "metadata": {},
   "outputs": [],
   "source": [
    "layers = [784, 1024, 256, 64, 10]\n",
    "model = MLP(layers, res=True)\n",
    "pipeline(model, train_MNIST, test_MNIST, 'MNIST', 'MLP_res_5', lr=1e-4, evaluating_grad=True)\n",
    "\n",
    "layers = [784] + [1024] + [256] + [64]*10 + [10]\n",
    "model = MLP(layers, res=True)\n",
    "pipeline(model, train_MNIST, test_MNIST, 'MNIST', 'MLP_res_15', lr=1e-4, evaluating_grad=True)\n",
    "\n",
    "layers = [784] + [1024] + [256] + [64]*30 + [10]\n",
    "model = MLP(layers, res=True)\n",
    "pipeline(model, train_MNIST, test_MNIST, 'MNIST', 'MLP_res_35', lr=1e-4, evaluating_grad=True)\n",
    "\n",
    "layers = [784] + [1024]*15 + [256]*20 + [64]*15 + [10]\n",
    "model = MLP(layers, res=True)\n",
    "pipeline(model, train_MNIST, test_MNIST, 'MNIST', 'MLP_res_55', lr=1e-4, evaluating_grad=True)\n",
    "\n",
    "layers = [784] + [2048]*30 + [1024] + [256]*20 + [128]*10 + [64]*30 + [10]\n",
    "model = MLP(layers, res=True)\n",
    "pipeline(model, train_MNIST, test_MNIST, 'MNIST', 'MLP_res_96', lr=1e-4, evaluating_grad=True)\n"
   ]
  },
  {
   "cell_type": "markdown",
   "id": "a78c9016",
   "metadata": {},
   "source": [
    "---\n",
    "# CNN\n",
    "\n",
    "##### w/o residual connection"
   ]
  },
  {
   "cell_type": "code",
   "execution_count": null,
   "id": "aae9ffa2",
   "metadata": {},
   "outputs": [],
   "source": [
    "pipeline(CNN1(), train_CIFAR10, test_CIFAR10, 'CIFAR10', 'CNN_10', evaluating_grad=True)\n",
    "pipeline(CNN2(), train_CIFAR10, test_CIFAR10, 'CIFAR10', 'CNN_13', evaluating_grad=True)\n",
    "pipeline(CNN3(), train_CIFAR10, test_CIFAR10, 'CIFAR10', 'CNN_30', evaluating_grad=True)"
   ]
  },
  {
   "cell_type": "markdown",
   "id": "fbaa437d",
   "metadata": {},
   "source": [
    "##### w/ residual connection"
   ]
  },
  {
   "cell_type": "code",
   "execution_count": null,
   "id": "7a528c80",
   "metadata": {},
   "outputs": [],
   "source": [
    "pipeline(CNN2_res(), train_CIFAR10, test_CIFAR10, 'CIFAR10', 'CNN_res_16', evaluating_grad=True)\n",
    "pipeline(CNN3_res(), train_CIFAR10, test_CIFAR10, 'CIFAR10', 'CNN_res_35', evaluating_grad=True)\n",
    "pipeline(CNN_deep_res(), train_CIFAR10, test_CIFAR10, 'CIFAR10', 'CNN_res_56', evaluating_grad=True)"
   ]
  },
  {
   "cell_type": "markdown",
   "id": "ef4de2f2-abc5-4f98-9eaf-3497f734a022",
   "metadata": {},
   "source": [
    "---\n",
    "# Fine tune and optimizing"
   ]
  },
  {
   "cell_type": "markdown",
   "id": "299c26d2",
   "metadata": {},
   "source": [
    "##### Baseline"
   ]
  },
  {
   "cell_type": "code",
   "execution_count": null,
   "id": "e9951f89",
   "metadata": {},
   "outputs": [],
   "source": [
    "val_size = 5000\n",
    "I = np.random.permutation(len(train_CIFAR100))\n",
    "val_CIFAR100 = Subset(train_CIFAR100, I[:val_size])\n",
    "train_CIFAR100 = Subset(train_CIFAR100, I[val_size:])\n",
    "\n",
    "print(f'- Dimensione del validation set: {len(val_CIFAR100)}')\n",
    "print(f'- Dimensione del train set: {len(train_CIFAR100)}')"
   ]
  },
  {
   "cell_type": "code",
   "execution_count": null,
   "id": "469e81a3-08ca-4549-a2f8-f47cf5a0308b",
   "metadata": {
    "tags": []
   },
   "outputs": [],
   "source": [
    "resnet_c10 = resnet18(weights=None)\n",
    "resnet_c10.fc = nn.Linear(512, 10)\n",
    "pipeline(resnet_c10, train_CIFAR10, test_CIFAR10, 'CIFAR100', 'train_resnet')\n",
    "extract_and_classical(resnet_c10, train_CIFAR100, test_CIFAR100)"
   ]
  },
  {
   "cell_type": "markdown",
   "id": "989085c4",
   "metadata": {},
   "source": [
    "##### Fine tuning"
   ]
  },
  {
   "cell_type": "code",
   "execution_count": null,
   "id": "cf847b46",
   "metadata": {},
   "outputs": [],
   "source": [
    "# learning rate troppo alto\n",
    "\n",
    "resnet = cloneResnet(resnet_c10)\n",
    "\n",
    "for param in resnet.parameters():\n",
    "    param.requires_grad = False\n",
    "for param in resnet.fc.parameters():\n",
    "    param.requires_grad = True\n",
    "pipeline(resnet, train_CIFAR100, val_CIFAR100, 'CIFAR100', 'fine_tune_1', classi=100)\n",
    "\n",
    "for param in resnet.layer4.parameters():\n",
    "    param.requires_grad = True\n",
    "pipeline(resnet, train_CIFAR100, val_CIFAR100, 'CIFAR100', 'fine_tune_2', classi=100)"
   ]
  },
  {
   "cell_type": "code",
   "execution_count": null,
   "id": "fda697aa",
   "metadata": {},
   "outputs": [],
   "source": [
    "# learning rate più basso\n",
    "\n",
    "resnet = cloneResnet(resnet_c10)\n",
    "\n",
    "for param in resnet.parameters():\n",
    "    param.requires_grad = False\n",
    "for param in resnet.fc.parameters():\n",
    "    param.requires_grad = True\n",
    "pipeline(resnet, train_CIFAR100, val_CIFAR100, 'CIFAR100', 'fine_tune_1_lr', classi=100)\n",
    "\n",
    "for param in resnet.layer4.parameters():\n",
    "    param.requires_grad = True\n",
    "pipeline(resnet, train_CIFAR100, val_CIFAR100, 'CIFAR100', 'fine_tune_2_lr', lr=1e-5, classi=100)\n",
    "\n",
    "for param in resnet.layer3.parameters():\n",
    "    param.requires_grad = True\n",
    "pipeline(resnet, train_CIFAR100, val_CIFAR100, 'CIFAR100', 'fine_tune_3_lr', lr=1e-5, classi=100)"
   ]
  },
  {
   "cell_type": "markdown",
   "id": "61946f63",
   "metadata": {},
   "source": [
    "##### Early stopping"
   ]
  },
  {
   "cell_type": "code",
   "execution_count": null,
   "id": "030e372a",
   "metadata": {},
   "outputs": [],
   "source": [
    "resnet = cloneResnet(resnet_c10)\n",
    "pipeline(resnet, train_CIFAR100, val_CIFAR100, 'CIFAR100', 'early stopping', early_stopping=True, lr=5e-3, classi=100)"
   ]
  },
  {
   "cell_type": "markdown",
   "id": "c47e1634",
   "metadata": {},
   "source": [
    "##### Optimizer"
   ]
  },
  {
   "cell_type": "code",
   "execution_count": null,
   "id": "45dcd4cb",
   "metadata": {},
   "outputs": [],
   "source": [
    "resnet = cloneResnet(resnet_c10)\n",
    "opt = torch.optim.Adam(resnet.parameters(), lr=5e-4)\n",
    "pipeline(resnet, train_CIFAR100, val_CIFAR100, 'CIFAR100', 'adam', early_stopping=True, classi=100, opt=opt)\n",
    "\n",
    "resnet = cloneResnet(resnet_c10)\n",
    "opt = torch.optim.SGD(resnet.parameters(), lr=5e-4)\n",
    "pipeline(resnet, train_CIFAR100, val_CIFAR100, 'CIFAR100', 'sgd', early_stopping=True, classi=100, opt=opt)\n",
    "\n",
    "resnet = cloneResnet(resnet_c10)\n",
    "opt = torch.optim.AdamW(resnet.parameters(), lr=5e-4)\n",
    "pipeline(resnet, train_CIFAR100, val_CIFAR100, 'CIFAR100', 'adamW', early_stopping=True, classi=100, opt=opt)\n",
    "\n",
    "resnet = cloneResnet(resnet_c10)\n",
    "opt = torch.optim.RMSprop(resnet.parameters(), lr=5e-4)\n",
    "pipeline(resnet, train_CIFAR100, val_CIFAR100, 'CIFAR100', 'RMSprop', early_stopping=True, classi=100, opt=opt)\n",
    "\n",
    "\n",
    "resnet = cloneResnet(resnet_c10)\n",
    "opt = torch.optim.Adam(resnet.parameters(), lr=1e-5)\n",
    "pipeline(resnet, train_CIFAR100, val_CIFAR100, 'CIFAR100', 'adam2', early_stopping=True, classi=100, opt=opt, epochs=50)\n",
    "\n",
    "resnet = cloneResnet(resnet_c10)\n",
    "opt = torch.optim.SGD(resnet.parameters(), lr=1e-5)\n",
    "pipeline(resnet, train_CIFAR100, val_CIFAR100, 'CIFAR100', 'sgd2', early_stopping=True, classi=100, opt=opt, epochs=50)\n",
    "\n",
    "resnet = cloneResnet(resnet_c10)\n",
    "opt = torch.optim.AdamW(resnet.parameters(), lr=1e-5)\n",
    "pipeline(resnet, train_CIFAR100, val_CIFAR100, 'CIFAR100', 'adamW2', early_stopping=True, classi=100, opt=opt, epochs=50)\n",
    "\n",
    "resnet = cloneResnet(resnet_c10)\n",
    "opt = torch.optim.RMSprop(resnet.parameters(), lr=1e-5)\n",
    "pipeline(resnet, train_CIFAR100, val_CIFAR100, 'CIFAR100', 'RMSprop2', early_stopping=True, classi=100, opt=opt, epochs=50)"
   ]
  },
  {
   "cell_type": "markdown",
   "id": "3a6f50a1",
   "metadata": {},
   "source": [
    "##### Iperparametri"
   ]
  },
  {
   "cell_type": "code",
   "execution_count": null,
   "id": "c3d525c5",
   "metadata": {},
   "outputs": [],
   "source": [
    "def mysweep():\n",
    "    with wandb.init() as run:\n",
    "        config = wandb.config\n",
    "        run_name = f'resnset(lr: {round(config.lr,7)}, bs: {config.batch_size})'\n",
    "        resnet = cloneResnet(resnet_c10)\n",
    "        pipeline(resnet, train_CIFAR100, val_CIFAR100, 'CIFAR100', run_name, classi=100, lr=config.lr, batch_size=config.batch_size, early_stopping=True)\n",
    "\n",
    "sweep_config = {\n",
    "    'method': 'bayes',\n",
    "    'metric': {'name': 'test_acc', 'goal': 'maximize'},\n",
    "    'parameters': {\n",
    "        'lr': {'distribution': 'log_uniform_values', 'min': 1e-6, 'max': 1e-2},\n",
    "        'batch_size': {'values': [16, 32, 64, 128, 256]}}\n",
    "}\n",
    "    \n",
    "sweep_id = wandb.sweep(sweep = sweep_config, project='CIFAR100')\n",
    "wandb.agent(sweep_id, function=mysweep, count=12)"
   ]
  },
  {
   "cell_type": "markdown",
   "id": "f86700e5",
   "metadata": {},
   "source": [
    "##### Dropout and generalization"
   ]
  },
  {
   "cell_type": "code",
   "execution_count": null,
   "id": "6e9794c7",
   "metadata": {},
   "outputs": [],
   "source": [
    "resnet = cloneResnet(resnet_c10)\n",
    "resnet.fc = nn.Sequential(\n",
    "    nn.Dropout(p=0.5),\n",
    "    nn.Linear(512, 100)\n",
    ")\n",
    "\n",
    "pipeline(resnet, train_CIFAR100, val_CIFAR100, 'CIFAR100', 'dropout', epochs=100, early_stopping=True, classi=100, batch_size=64, lr=0.009306381822230696)\n",
    "\n",
    "dl_test = get_dataloader(test_CIFAR100, 64)\n",
    "acc_test = testing_acc(resnet, dl_test, 100)\n",
    "print(f'Accuracy sul test set: {acc_test}')"
   ]
  }
 ],
 "metadata": {
  "kernelspec": {
   "display_name": "CNNlab",
   "language": "python",
   "name": "python3"
  },
  "language_info": {
   "codemirror_mode": {
    "name": "ipython",
    "version": 3
   },
   "file_extension": ".py",
   "mimetype": "text/x-python",
   "name": "python",
   "nbconvert_exporter": "python",
   "pygments_lexer": "ipython3",
   "version": "3.10.13"
  }
 },
 "nbformat": 4,
 "nbformat_minor": 5
}
